{
  "nbformat": 4,
  "nbformat_minor": 0,
  "metadata": {
    "colab": {
      "name": "iloc_santaremsegundo.ipynb",
      "provenance": []
    },
    "kernelspec": {
      "name": "python3",
      "display_name": "Python 3"
    },
    "language_info": {
      "name": "python"
    }
  },
  "cells": [
    {
      "cell_type": "markdown",
      "metadata": {
        "id": "eBD5suz_9b01"
      },
      "source": [
        "#Trabalhar com iloc do Pandas\n",
        "##O i do iloc quer dizer posição!!!\n",
        "\n",
        "##José Eduardo Santarem Segundo"
      ]
    },
    {
      "cell_type": "markdown",
      "metadata": {
        "id": "N5ujyVqW9kzC"
      },
      "source": [
        "### importar biblioteca"
      ]
    },
    {
      "cell_type": "code",
      "metadata": {
        "id": "_M_XQFWB37D0"
      },
      "source": [
        "import pandas as pd"
      ],
      "execution_count": 1,
      "outputs": []
    },
    {
      "cell_type": "markdown",
      "metadata": {
        "id": "0hQ4Jx449m9H"
      },
      "source": [
        "### Conjunto de dados"
      ]
    },
    {
      "cell_type": "code",
      "metadata": {
        "id": "OlDVvIrk38Hw"
      },
      "source": [
        "dados={'Empresa':['Microsoft', 'Google','Apple','NVData Analytics','Amazon','Newsda','Alibaba','Samsung','JD.com'], 'Qtde Func':[190000, 140000,147000, 11,1125000,0,251000,320000,310000], 'Site':['https://www.microsoft.com/','https://www.google.com/','https://www.apple.com/','https://www.nvdata.com.br/','https://amazon.com','http://newsda.com.br/','https://www.alibabagroup.com/en/global/home','https://www.samsung.com/','https://corporate.jd.com/'],'Instagram':['@microsoft','@google','@apple','@nv_data','@amazon','@newsda.br','@alibaba.com_official','@samsung','@jd_corporate'],'Criação':[1975,1998,1976,2019,1994,2016,1999,1969,1998], 'País':['EUA','EUA','EUA','Brasil','EUA','Brasil','China', 'Coréia do Sul','China']}"
      ],
      "execution_count": 22,
      "outputs": []
    },
    {
      "cell_type": "code",
      "metadata": {
        "id": "remN6Pkh39DJ"
      },
      "source": [
        "df=pd.DataFrame(dados)"
      ],
      "execution_count": 23,
      "outputs": []
    },
    {
      "cell_type": "code",
      "metadata": {
        "colab": {
          "base_uri": "https://localhost:8080/",
          "height": 328
        },
        "id": "wlUrg7dS4AcD",
        "outputId": "c13d8da0-0c2d-4186-aeca-e21d84992b52"
      },
      "source": [
        "df"
      ],
      "execution_count": 24,
      "outputs": [
        {
          "output_type": "execute_result",
          "data": {
            "text/html": [
              "<div>\n",
              "<style scoped>\n",
              "    .dataframe tbody tr th:only-of-type {\n",
              "        vertical-align: middle;\n",
              "    }\n",
              "\n",
              "    .dataframe tbody tr th {\n",
              "        vertical-align: top;\n",
              "    }\n",
              "\n",
              "    .dataframe thead th {\n",
              "        text-align: right;\n",
              "    }\n",
              "</style>\n",
              "<table border=\"1\" class=\"dataframe\">\n",
              "  <thead>\n",
              "    <tr style=\"text-align: right;\">\n",
              "      <th></th>\n",
              "      <th>Empresa</th>\n",
              "      <th>Qtde Func</th>\n",
              "      <th>Site</th>\n",
              "      <th>Instagram</th>\n",
              "      <th>Criação</th>\n",
              "      <th>País</th>\n",
              "    </tr>\n",
              "  </thead>\n",
              "  <tbody>\n",
              "    <tr>\n",
              "      <th>0</th>\n",
              "      <td>Microsoft</td>\n",
              "      <td>190000</td>\n",
              "      <td>https://www.microsoft.com/</td>\n",
              "      <td>@microsoft</td>\n",
              "      <td>1975</td>\n",
              "      <td>EUA</td>\n",
              "    </tr>\n",
              "    <tr>\n",
              "      <th>1</th>\n",
              "      <td>Google</td>\n",
              "      <td>140000</td>\n",
              "      <td>https://www.google.com/</td>\n",
              "      <td>@google</td>\n",
              "      <td>1998</td>\n",
              "      <td>EUA</td>\n",
              "    </tr>\n",
              "    <tr>\n",
              "      <th>2</th>\n",
              "      <td>Apple</td>\n",
              "      <td>147000</td>\n",
              "      <td>https://www.apple.com/</td>\n",
              "      <td>@apple</td>\n",
              "      <td>1976</td>\n",
              "      <td>EUA</td>\n",
              "    </tr>\n",
              "    <tr>\n",
              "      <th>3</th>\n",
              "      <td>NVData Analytics</td>\n",
              "      <td>11</td>\n",
              "      <td>https://www.nvdata.com.br/</td>\n",
              "      <td>@nv_data</td>\n",
              "      <td>2019</td>\n",
              "      <td>Brasil</td>\n",
              "    </tr>\n",
              "    <tr>\n",
              "      <th>4</th>\n",
              "      <td>Amazon</td>\n",
              "      <td>1125000</td>\n",
              "      <td>https://amazon.com</td>\n",
              "      <td>@amazon</td>\n",
              "      <td>1994</td>\n",
              "      <td>EUA</td>\n",
              "    </tr>\n",
              "    <tr>\n",
              "      <th>5</th>\n",
              "      <td>Newsda</td>\n",
              "      <td>0</td>\n",
              "      <td>http://newsda.com.br/</td>\n",
              "      <td>@newsda.br</td>\n",
              "      <td>2016</td>\n",
              "      <td>Brasil</td>\n",
              "    </tr>\n",
              "    <tr>\n",
              "      <th>6</th>\n",
              "      <td>Alibaba</td>\n",
              "      <td>251000</td>\n",
              "      <td>https://www.alibabagroup.com/en/global/home</td>\n",
              "      <td>@alibaba.com_official</td>\n",
              "      <td>1999</td>\n",
              "      <td>China</td>\n",
              "    </tr>\n",
              "    <tr>\n",
              "      <th>7</th>\n",
              "      <td>Samsung</td>\n",
              "      <td>320000</td>\n",
              "      <td>https://www.samsung.com/</td>\n",
              "      <td>@samsung</td>\n",
              "      <td>1969</td>\n",
              "      <td>Coréia do Sul</td>\n",
              "    </tr>\n",
              "    <tr>\n",
              "      <th>8</th>\n",
              "      <td>JD.com</td>\n",
              "      <td>310000</td>\n",
              "      <td>https://corporate.jd.com/</td>\n",
              "      <td>@jd_corporate</td>\n",
              "      <td>1998</td>\n",
              "      <td>China</td>\n",
              "    </tr>\n",
              "  </tbody>\n",
              "</table>\n",
              "</div>"
            ],
            "text/plain": [
              "            Empresa  Qtde Func  ... Criação           País\n",
              "0         Microsoft     190000  ...    1975            EUA\n",
              "1            Google     140000  ...    1998            EUA\n",
              "2             Apple     147000  ...    1976            EUA\n",
              "3  NVData Analytics         11  ...    2019         Brasil\n",
              "4            Amazon    1125000  ...    1994            EUA\n",
              "5            Newsda          0  ...    2016         Brasil\n",
              "6           Alibaba     251000  ...    1999          China\n",
              "7           Samsung     320000  ...    1969  Coréia do Sul\n",
              "8            JD.com     310000  ...    1998          China\n",
              "\n",
              "[9 rows x 6 columns]"
            ]
          },
          "metadata": {},
          "execution_count": 24
        }
      ]
    },
    {
      "cell_type": "code",
      "metadata": {
        "colab": {
          "base_uri": "https://localhost:8080/",
          "height": 111
        },
        "id": "ba4S_Ybv4A3f",
        "outputId": "d3742b17-6da3-4fea-ae1b-c252bd790e3b"
      },
      "source": [
        "df.head(2)"
      ],
      "execution_count": 25,
      "outputs": [
        {
          "output_type": "execute_result",
          "data": {
            "text/html": [
              "<div>\n",
              "<style scoped>\n",
              "    .dataframe tbody tr th:only-of-type {\n",
              "        vertical-align: middle;\n",
              "    }\n",
              "\n",
              "    .dataframe tbody tr th {\n",
              "        vertical-align: top;\n",
              "    }\n",
              "\n",
              "    .dataframe thead th {\n",
              "        text-align: right;\n",
              "    }\n",
              "</style>\n",
              "<table border=\"1\" class=\"dataframe\">\n",
              "  <thead>\n",
              "    <tr style=\"text-align: right;\">\n",
              "      <th></th>\n",
              "      <th>Empresa</th>\n",
              "      <th>Qtde Func</th>\n",
              "      <th>Site</th>\n",
              "      <th>Instagram</th>\n",
              "      <th>Criação</th>\n",
              "      <th>País</th>\n",
              "    </tr>\n",
              "  </thead>\n",
              "  <tbody>\n",
              "    <tr>\n",
              "      <th>0</th>\n",
              "      <td>Microsoft</td>\n",
              "      <td>190000</td>\n",
              "      <td>https://www.microsoft.com/</td>\n",
              "      <td>@microsoft</td>\n",
              "      <td>1975</td>\n",
              "      <td>EUA</td>\n",
              "    </tr>\n",
              "    <tr>\n",
              "      <th>1</th>\n",
              "      <td>Google</td>\n",
              "      <td>140000</td>\n",
              "      <td>https://www.google.com/</td>\n",
              "      <td>@google</td>\n",
              "      <td>1998</td>\n",
              "      <td>EUA</td>\n",
              "    </tr>\n",
              "  </tbody>\n",
              "</table>\n",
              "</div>"
            ],
            "text/plain": [
              "     Empresa  Qtde Func                        Site   Instagram  Criação País\n",
              "0  Microsoft     190000  https://www.microsoft.com/  @microsoft     1975  EUA\n",
              "1     Google     140000     https://www.google.com/     @google     1998  EUA"
            ]
          },
          "metadata": {},
          "execution_count": 25
        }
      ]
    },
    {
      "cell_type": "code",
      "metadata": {
        "colab": {
          "base_uri": "https://localhost:8080/",
          "height": 111
        },
        "id": "A758mJzu97Nn",
        "outputId": "170bbec4-526c-498d-e8c5-2efc8dc2f5b1"
      },
      "source": [
        "df.tail(2)"
      ],
      "execution_count": 26,
      "outputs": [
        {
          "output_type": "execute_result",
          "data": {
            "text/html": [
              "<div>\n",
              "<style scoped>\n",
              "    .dataframe tbody tr th:only-of-type {\n",
              "        vertical-align: middle;\n",
              "    }\n",
              "\n",
              "    .dataframe tbody tr th {\n",
              "        vertical-align: top;\n",
              "    }\n",
              "\n",
              "    .dataframe thead th {\n",
              "        text-align: right;\n",
              "    }\n",
              "</style>\n",
              "<table border=\"1\" class=\"dataframe\">\n",
              "  <thead>\n",
              "    <tr style=\"text-align: right;\">\n",
              "      <th></th>\n",
              "      <th>Empresa</th>\n",
              "      <th>Qtde Func</th>\n",
              "      <th>Site</th>\n",
              "      <th>Instagram</th>\n",
              "      <th>Criação</th>\n",
              "      <th>País</th>\n",
              "    </tr>\n",
              "  </thead>\n",
              "  <tbody>\n",
              "    <tr>\n",
              "      <th>7</th>\n",
              "      <td>Samsung</td>\n",
              "      <td>320000</td>\n",
              "      <td>https://www.samsung.com/</td>\n",
              "      <td>@samsung</td>\n",
              "      <td>1969</td>\n",
              "      <td>Coréia do Sul</td>\n",
              "    </tr>\n",
              "    <tr>\n",
              "      <th>8</th>\n",
              "      <td>JD.com</td>\n",
              "      <td>310000</td>\n",
              "      <td>https://corporate.jd.com/</td>\n",
              "      <td>@jd_corporate</td>\n",
              "      <td>1998</td>\n",
              "      <td>China</td>\n",
              "    </tr>\n",
              "  </tbody>\n",
              "</table>\n",
              "</div>"
            ],
            "text/plain": [
              "   Empresa  Qtde Func  ... Criação           País\n",
              "7  Samsung     320000  ...    1969  Coréia do Sul\n",
              "8   JD.com     310000  ...    1998          China\n",
              "\n",
              "[2 rows x 6 columns]"
            ]
          },
          "metadata": {},
          "execution_count": 26
        }
      ]
    },
    {
      "cell_type": "code",
      "metadata": {
        "colab": {
          "base_uri": "https://localhost:8080/",
          "height": 111
        },
        "id": "ppI1HGZ09911",
        "outputId": "77fa54a7-94cf-4d4c-baaa-5bb596415c30"
      },
      "source": [
        "df.sample(2)"
      ],
      "execution_count": 27,
      "outputs": [
        {
          "output_type": "execute_result",
          "data": {
            "text/html": [
              "<div>\n",
              "<style scoped>\n",
              "    .dataframe tbody tr th:only-of-type {\n",
              "        vertical-align: middle;\n",
              "    }\n",
              "\n",
              "    .dataframe tbody tr th {\n",
              "        vertical-align: top;\n",
              "    }\n",
              "\n",
              "    .dataframe thead th {\n",
              "        text-align: right;\n",
              "    }\n",
              "</style>\n",
              "<table border=\"1\" class=\"dataframe\">\n",
              "  <thead>\n",
              "    <tr style=\"text-align: right;\">\n",
              "      <th></th>\n",
              "      <th>Empresa</th>\n",
              "      <th>Qtde Func</th>\n",
              "      <th>Site</th>\n",
              "      <th>Instagram</th>\n",
              "      <th>Criação</th>\n",
              "      <th>País</th>\n",
              "    </tr>\n",
              "  </thead>\n",
              "  <tbody>\n",
              "    <tr>\n",
              "      <th>7</th>\n",
              "      <td>Samsung</td>\n",
              "      <td>320000</td>\n",
              "      <td>https://www.samsung.com/</td>\n",
              "      <td>@samsung</td>\n",
              "      <td>1969</td>\n",
              "      <td>Coréia do Sul</td>\n",
              "    </tr>\n",
              "    <tr>\n",
              "      <th>2</th>\n",
              "      <td>Apple</td>\n",
              "      <td>147000</td>\n",
              "      <td>https://www.apple.com/</td>\n",
              "      <td>@apple</td>\n",
              "      <td>1976</td>\n",
              "      <td>EUA</td>\n",
              "    </tr>\n",
              "  </tbody>\n",
              "</table>\n",
              "</div>"
            ],
            "text/plain": [
              "   Empresa  Qtde Func  ... Criação           País\n",
              "7  Samsung     320000  ...    1969  Coréia do Sul\n",
              "2    Apple     147000  ...    1976            EUA\n",
              "\n",
              "[2 rows x 6 columns]"
            ]
          },
          "metadata": {},
          "execution_count": 27
        }
      ]
    },
    {
      "cell_type": "code",
      "metadata": {
        "colab": {
          "base_uri": "https://localhost:8080/"
        },
        "id": "Fi_yzEWJ9_A5",
        "outputId": "09587913-702c-4077-9434-f2780bdacfc1"
      },
      "source": [
        "df['Empresa']"
      ],
      "execution_count": 28,
      "outputs": [
        {
          "output_type": "execute_result",
          "data": {
            "text/plain": [
              "0           Microsoft\n",
              "1              Google\n",
              "2               Apple\n",
              "3    NVData Analytics\n",
              "4              Amazon\n",
              "5              Newsda\n",
              "6             Alibaba\n",
              "7             Samsung\n",
              "8              JD.com\n",
              "Name: Empresa, dtype: object"
            ]
          },
          "metadata": {},
          "execution_count": 28
        }
      ]
    },
    {
      "cell_type": "code",
      "metadata": {
        "colab": {
          "base_uri": "https://localhost:8080/"
        },
        "id": "XVVJRgpm-pG8",
        "outputId": "7ec8070c-5df1-4071-bdb8-357257a14158"
      },
      "source": [
        "df['Empresa']"
      ],
      "execution_count": 30,
      "outputs": [
        {
          "output_type": "execute_result",
          "data": {
            "text/plain": [
              "0    Microsoft\n",
              "1       Google\n",
              "Name: Empresa, dtype: object"
            ]
          },
          "metadata": {},
          "execution_count": 30
        }
      ]
    },
    {
      "cell_type": "code",
      "metadata": {
        "colab": {
          "base_uri": "https://localhost:8080/"
        },
        "id": "xg6fqF-g-tAj",
        "outputId": "fe0e71cf-3bb6-422d-bf5f-8fdad72430e7"
      },
      "source": [
        "df['Site'][1:4]"
      ],
      "execution_count": 32,
      "outputs": [
        {
          "output_type": "execute_result",
          "data": {
            "text/plain": [
              "1       https://www.google.com/\n",
              "2        https://www.apple.com/\n",
              "3    https://www.nvdata.com.br/\n",
              "Name: Site, dtype: object"
            ]
          },
          "metadata": {},
          "execution_count": 32
        }
      ]
    },
    {
      "cell_type": "markdown",
      "metadata": {
        "id": "0Z9l4LMl_DP7"
      },
      "source": [
        "### Trabalhar com iloc"
      ]
    },
    {
      "cell_type": "code",
      "metadata": {
        "colab": {
          "base_uri": "https://localhost:8080/",
          "height": 328
        },
        "id": "3cwJukK1AU3f",
        "outputId": "3cfff47c-7785-48db-98d4-d341b9d713a2"
      },
      "source": [
        "df"
      ],
      "execution_count": 40,
      "outputs": [
        {
          "output_type": "execute_result",
          "data": {
            "text/html": [
              "<div>\n",
              "<style scoped>\n",
              "    .dataframe tbody tr th:only-of-type {\n",
              "        vertical-align: middle;\n",
              "    }\n",
              "\n",
              "    .dataframe tbody tr th {\n",
              "        vertical-align: top;\n",
              "    }\n",
              "\n",
              "    .dataframe thead th {\n",
              "        text-align: right;\n",
              "    }\n",
              "</style>\n",
              "<table border=\"1\" class=\"dataframe\">\n",
              "  <thead>\n",
              "    <tr style=\"text-align: right;\">\n",
              "      <th></th>\n",
              "      <th>Empresa</th>\n",
              "      <th>Qtde Func</th>\n",
              "      <th>Site</th>\n",
              "      <th>Instagram</th>\n",
              "      <th>Criação</th>\n",
              "      <th>País</th>\n",
              "    </tr>\n",
              "  </thead>\n",
              "  <tbody>\n",
              "    <tr>\n",
              "      <th>0</th>\n",
              "      <td>Microsoft</td>\n",
              "      <td>190000</td>\n",
              "      <td>https://www.microsoft.com/</td>\n",
              "      <td>@microsoft</td>\n",
              "      <td>1975</td>\n",
              "      <td>EUA</td>\n",
              "    </tr>\n",
              "    <tr>\n",
              "      <th>1</th>\n",
              "      <td>Google</td>\n",
              "      <td>140000</td>\n",
              "      <td>https://www.google.com/</td>\n",
              "      <td>@google</td>\n",
              "      <td>1998</td>\n",
              "      <td>EUA</td>\n",
              "    </tr>\n",
              "    <tr>\n",
              "      <th>2</th>\n",
              "      <td>Apple</td>\n",
              "      <td>147000</td>\n",
              "      <td>https://www.apple.com/</td>\n",
              "      <td>@apple</td>\n",
              "      <td>1976</td>\n",
              "      <td>EUA</td>\n",
              "    </tr>\n",
              "    <tr>\n",
              "      <th>3</th>\n",
              "      <td>NVData Analytics</td>\n",
              "      <td>11</td>\n",
              "      <td>https://www.nvdata.com.br/</td>\n",
              "      <td>@nv_data</td>\n",
              "      <td>2019</td>\n",
              "      <td>Brasil</td>\n",
              "    </tr>\n",
              "    <tr>\n",
              "      <th>4</th>\n",
              "      <td>Amazon</td>\n",
              "      <td>1125000</td>\n",
              "      <td>https://amazon.com</td>\n",
              "      <td>@amazon</td>\n",
              "      <td>1994</td>\n",
              "      <td>EUA</td>\n",
              "    </tr>\n",
              "    <tr>\n",
              "      <th>5</th>\n",
              "      <td>Newsda</td>\n",
              "      <td>0</td>\n",
              "      <td>http://newsda.com.br/</td>\n",
              "      <td>@newsda.br</td>\n",
              "      <td>2016</td>\n",
              "      <td>Brasil</td>\n",
              "    </tr>\n",
              "    <tr>\n",
              "      <th>6</th>\n",
              "      <td>Alibaba</td>\n",
              "      <td>251000</td>\n",
              "      <td>https://www.alibabagroup.com/en/global/home</td>\n",
              "      <td>@alibaba.com_official</td>\n",
              "      <td>1999</td>\n",
              "      <td>China</td>\n",
              "    </tr>\n",
              "    <tr>\n",
              "      <th>7</th>\n",
              "      <td>Samsung</td>\n",
              "      <td>320000</td>\n",
              "      <td>https://www.samsung.com/</td>\n",
              "      <td>@samsung</td>\n",
              "      <td>1969</td>\n",
              "      <td>Coréia do Sul</td>\n",
              "    </tr>\n",
              "    <tr>\n",
              "      <th>8</th>\n",
              "      <td>JD.com</td>\n",
              "      <td>310000</td>\n",
              "      <td>https://corporate.jd.com/</td>\n",
              "      <td>@jd_corporate</td>\n",
              "      <td>1998</td>\n",
              "      <td>China</td>\n",
              "    </tr>\n",
              "  </tbody>\n",
              "</table>\n",
              "</div>"
            ],
            "text/plain": [
              "            Empresa  Qtde Func  ... Criação           País\n",
              "0         Microsoft     190000  ...    1975            EUA\n",
              "1            Google     140000  ...    1998            EUA\n",
              "2             Apple     147000  ...    1976            EUA\n",
              "3  NVData Analytics         11  ...    2019         Brasil\n",
              "4            Amazon    1125000  ...    1994            EUA\n",
              "5            Newsda          0  ...    2016         Brasil\n",
              "6           Alibaba     251000  ...    1999          China\n",
              "7           Samsung     320000  ...    1969  Coréia do Sul\n",
              "8            JD.com     310000  ...    1998          China\n",
              "\n",
              "[9 rows x 6 columns]"
            ]
          },
          "metadata": {},
          "execution_count": 40
        }
      ]
    },
    {
      "cell_type": "markdown",
      "metadata": {
        "id": "Y6IAhzjeA9Pn"
      },
      "source": [
        "### Selecionar uma linha, um registro completo (a alinha indexada com 2)"
      ]
    },
    {
      "cell_type": "code",
      "metadata": {
        "colab": {
          "base_uri": "https://localhost:8080/"
        },
        "id": "Z4Bge6QC-zcQ",
        "outputId": "96f36813-cba5-474e-c88a-f295b2610a3e"
      },
      "source": [
        "df.iloc[2]"
      ],
      "execution_count": 39,
      "outputs": [
        {
          "output_type": "execute_result",
          "data": {
            "text/plain": [
              "Empresa                       Apple\n",
              "Qtde Func                    147000\n",
              "Site         https://www.apple.com/\n",
              "Instagram                    @apple\n",
              "Criação                        1976\n",
              "País                            EUA\n",
              "Name: 2, dtype: object"
            ]
          },
          "metadata": {},
          "execution_count": 39
        }
      ]
    },
    {
      "cell_type": "markdown",
      "metadata": {
        "id": "6VLN5v2SBAn5"
      },
      "source": [
        "### Selecionar um intervalo de linhas, [1:3], quer dizer de 1 a 2 (o 3 não é incluído)"
      ]
    },
    {
      "cell_type": "code",
      "metadata": {
        "colab": {
          "base_uri": "https://localhost:8080/",
          "height": 111
        },
        "id": "0Qd2xfqg_Afv",
        "outputId": "9e24e2a7-def3-404a-b11d-a822751939a8"
      },
      "source": [
        "df.iloc[1:3]"
      ],
      "execution_count": 45,
      "outputs": [
        {
          "output_type": "execute_result",
          "data": {
            "text/html": [
              "<div>\n",
              "<style scoped>\n",
              "    .dataframe tbody tr th:only-of-type {\n",
              "        vertical-align: middle;\n",
              "    }\n",
              "\n",
              "    .dataframe tbody tr th {\n",
              "        vertical-align: top;\n",
              "    }\n",
              "\n",
              "    .dataframe thead th {\n",
              "        text-align: right;\n",
              "    }\n",
              "</style>\n",
              "<table border=\"1\" class=\"dataframe\">\n",
              "  <thead>\n",
              "    <tr style=\"text-align: right;\">\n",
              "      <th></th>\n",
              "      <th>Empresa</th>\n",
              "      <th>Qtde Func</th>\n",
              "      <th>Site</th>\n",
              "      <th>Instagram</th>\n",
              "      <th>Criação</th>\n",
              "      <th>País</th>\n",
              "    </tr>\n",
              "  </thead>\n",
              "  <tbody>\n",
              "    <tr>\n",
              "      <th>1</th>\n",
              "      <td>Google</td>\n",
              "      <td>140000</td>\n",
              "      <td>https://www.google.com/</td>\n",
              "      <td>@google</td>\n",
              "      <td>1998</td>\n",
              "      <td>EUA</td>\n",
              "    </tr>\n",
              "    <tr>\n",
              "      <th>2</th>\n",
              "      <td>Apple</td>\n",
              "      <td>147000</td>\n",
              "      <td>https://www.apple.com/</td>\n",
              "      <td>@apple</td>\n",
              "      <td>1976</td>\n",
              "      <td>EUA</td>\n",
              "    </tr>\n",
              "  </tbody>\n",
              "</table>\n",
              "</div>"
            ],
            "text/plain": [
              "  Empresa  Qtde Func                     Site Instagram  Criação País\n",
              "1  Google     140000  https://www.google.com/   @google     1998  EUA\n",
              "2   Apple     147000   https://www.apple.com/    @apple     1976  EUA"
            ]
          },
          "metadata": {},
          "execution_count": 45
        }
      ]
    },
    {
      "cell_type": "code",
      "metadata": {
        "colab": {
          "base_uri": "https://localhost:8080/",
          "height": 142
        },
        "id": "-YTvgOY6B8qJ",
        "outputId": "ec04a30a-abfb-49a8-8847-38c189abf933"
      },
      "source": [
        "df.iloc[:3]"
      ],
      "execution_count": 46,
      "outputs": [
        {
          "output_type": "execute_result",
          "data": {
            "text/html": [
              "<div>\n",
              "<style scoped>\n",
              "    .dataframe tbody tr th:only-of-type {\n",
              "        vertical-align: middle;\n",
              "    }\n",
              "\n",
              "    .dataframe tbody tr th {\n",
              "        vertical-align: top;\n",
              "    }\n",
              "\n",
              "    .dataframe thead th {\n",
              "        text-align: right;\n",
              "    }\n",
              "</style>\n",
              "<table border=\"1\" class=\"dataframe\">\n",
              "  <thead>\n",
              "    <tr style=\"text-align: right;\">\n",
              "      <th></th>\n",
              "      <th>Empresa</th>\n",
              "      <th>Qtde Func</th>\n",
              "      <th>Site</th>\n",
              "      <th>Instagram</th>\n",
              "      <th>Criação</th>\n",
              "      <th>País</th>\n",
              "    </tr>\n",
              "  </thead>\n",
              "  <tbody>\n",
              "    <tr>\n",
              "      <th>0</th>\n",
              "      <td>Microsoft</td>\n",
              "      <td>190000</td>\n",
              "      <td>https://www.microsoft.com/</td>\n",
              "      <td>@microsoft</td>\n",
              "      <td>1975</td>\n",
              "      <td>EUA</td>\n",
              "    </tr>\n",
              "    <tr>\n",
              "      <th>1</th>\n",
              "      <td>Google</td>\n",
              "      <td>140000</td>\n",
              "      <td>https://www.google.com/</td>\n",
              "      <td>@google</td>\n",
              "      <td>1998</td>\n",
              "      <td>EUA</td>\n",
              "    </tr>\n",
              "    <tr>\n",
              "      <th>2</th>\n",
              "      <td>Apple</td>\n",
              "      <td>147000</td>\n",
              "      <td>https://www.apple.com/</td>\n",
              "      <td>@apple</td>\n",
              "      <td>1976</td>\n",
              "      <td>EUA</td>\n",
              "    </tr>\n",
              "  </tbody>\n",
              "</table>\n",
              "</div>"
            ],
            "text/plain": [
              "     Empresa  Qtde Func                        Site   Instagram  Criação País\n",
              "0  Microsoft     190000  https://www.microsoft.com/  @microsoft     1975  EUA\n",
              "1     Google     140000     https://www.google.com/     @google     1998  EUA\n",
              "2      Apple     147000      https://www.apple.com/      @apple     1976  EUA"
            ]
          },
          "metadata": {},
          "execution_count": 46
        }
      ]
    },
    {
      "cell_type": "code",
      "metadata": {
        "colab": {
          "base_uri": "https://localhost:8080/",
          "height": 235
        },
        "id": "UUjUf2TqCAN-",
        "outputId": "3392d833-622f-4513-e613-5b3b090997b8"
      },
      "source": [
        "df.iloc[3:]"
      ],
      "execution_count": 47,
      "outputs": [
        {
          "output_type": "execute_result",
          "data": {
            "text/html": [
              "<div>\n",
              "<style scoped>\n",
              "    .dataframe tbody tr th:only-of-type {\n",
              "        vertical-align: middle;\n",
              "    }\n",
              "\n",
              "    .dataframe tbody tr th {\n",
              "        vertical-align: top;\n",
              "    }\n",
              "\n",
              "    .dataframe thead th {\n",
              "        text-align: right;\n",
              "    }\n",
              "</style>\n",
              "<table border=\"1\" class=\"dataframe\">\n",
              "  <thead>\n",
              "    <tr style=\"text-align: right;\">\n",
              "      <th></th>\n",
              "      <th>Empresa</th>\n",
              "      <th>Qtde Func</th>\n",
              "      <th>Site</th>\n",
              "      <th>Instagram</th>\n",
              "      <th>Criação</th>\n",
              "      <th>País</th>\n",
              "    </tr>\n",
              "  </thead>\n",
              "  <tbody>\n",
              "    <tr>\n",
              "      <th>3</th>\n",
              "      <td>NVData Analytics</td>\n",
              "      <td>11</td>\n",
              "      <td>https://www.nvdata.com.br/</td>\n",
              "      <td>@nv_data</td>\n",
              "      <td>2019</td>\n",
              "      <td>Brasil</td>\n",
              "    </tr>\n",
              "    <tr>\n",
              "      <th>4</th>\n",
              "      <td>Amazon</td>\n",
              "      <td>1125000</td>\n",
              "      <td>https://amazon.com</td>\n",
              "      <td>@amazon</td>\n",
              "      <td>1994</td>\n",
              "      <td>EUA</td>\n",
              "    </tr>\n",
              "    <tr>\n",
              "      <th>5</th>\n",
              "      <td>Newsda</td>\n",
              "      <td>0</td>\n",
              "      <td>http://newsda.com.br/</td>\n",
              "      <td>@newsda.br</td>\n",
              "      <td>2016</td>\n",
              "      <td>Brasil</td>\n",
              "    </tr>\n",
              "    <tr>\n",
              "      <th>6</th>\n",
              "      <td>Alibaba</td>\n",
              "      <td>251000</td>\n",
              "      <td>https://www.alibabagroup.com/en/global/home</td>\n",
              "      <td>@alibaba.com_official</td>\n",
              "      <td>1999</td>\n",
              "      <td>China</td>\n",
              "    </tr>\n",
              "    <tr>\n",
              "      <th>7</th>\n",
              "      <td>Samsung</td>\n",
              "      <td>320000</td>\n",
              "      <td>https://www.samsung.com/</td>\n",
              "      <td>@samsung</td>\n",
              "      <td>1969</td>\n",
              "      <td>Coréia do Sul</td>\n",
              "    </tr>\n",
              "    <tr>\n",
              "      <th>8</th>\n",
              "      <td>JD.com</td>\n",
              "      <td>310000</td>\n",
              "      <td>https://corporate.jd.com/</td>\n",
              "      <td>@jd_corporate</td>\n",
              "      <td>1998</td>\n",
              "      <td>China</td>\n",
              "    </tr>\n",
              "  </tbody>\n",
              "</table>\n",
              "</div>"
            ],
            "text/plain": [
              "            Empresa  Qtde Func  ... Criação           País\n",
              "3  NVData Analytics         11  ...    2019         Brasil\n",
              "4            Amazon    1125000  ...    1994            EUA\n",
              "5            Newsda          0  ...    2016         Brasil\n",
              "6           Alibaba     251000  ...    1999          China\n",
              "7           Samsung     320000  ...    1969  Coréia do Sul\n",
              "8            JD.com     310000  ...    1998          China\n",
              "\n",
              "[6 rows x 6 columns]"
            ]
          },
          "metadata": {},
          "execution_count": 47
        }
      ]
    },
    {
      "cell_type": "code",
      "metadata": {
        "colab": {
          "base_uri": "https://localhost:8080/",
          "height": 142
        },
        "id": "M-U-M5_FCE40",
        "outputId": "f9266f8c-7c38-4a71-d81c-7160d184d420"
      },
      "source": [
        "df.iloc[-3:]"
      ],
      "execution_count": 51,
      "outputs": [
        {
          "output_type": "execute_result",
          "data": {
            "text/html": [
              "<div>\n",
              "<style scoped>\n",
              "    .dataframe tbody tr th:only-of-type {\n",
              "        vertical-align: middle;\n",
              "    }\n",
              "\n",
              "    .dataframe tbody tr th {\n",
              "        vertical-align: top;\n",
              "    }\n",
              "\n",
              "    .dataframe thead th {\n",
              "        text-align: right;\n",
              "    }\n",
              "</style>\n",
              "<table border=\"1\" class=\"dataframe\">\n",
              "  <thead>\n",
              "    <tr style=\"text-align: right;\">\n",
              "      <th></th>\n",
              "      <th>Empresa</th>\n",
              "      <th>Qtde Func</th>\n",
              "      <th>Site</th>\n",
              "      <th>Instagram</th>\n",
              "      <th>Criação</th>\n",
              "      <th>País</th>\n",
              "    </tr>\n",
              "  </thead>\n",
              "  <tbody>\n",
              "    <tr>\n",
              "      <th>6</th>\n",
              "      <td>Alibaba</td>\n",
              "      <td>251000</td>\n",
              "      <td>https://www.alibabagroup.com/en/global/home</td>\n",
              "      <td>@alibaba.com_official</td>\n",
              "      <td>1999</td>\n",
              "      <td>China</td>\n",
              "    </tr>\n",
              "    <tr>\n",
              "      <th>7</th>\n",
              "      <td>Samsung</td>\n",
              "      <td>320000</td>\n",
              "      <td>https://www.samsung.com/</td>\n",
              "      <td>@samsung</td>\n",
              "      <td>1969</td>\n",
              "      <td>Coréia do Sul</td>\n",
              "    </tr>\n",
              "    <tr>\n",
              "      <th>8</th>\n",
              "      <td>JD.com</td>\n",
              "      <td>310000</td>\n",
              "      <td>https://corporate.jd.com/</td>\n",
              "      <td>@jd_corporate</td>\n",
              "      <td>1998</td>\n",
              "      <td>China</td>\n",
              "    </tr>\n",
              "  </tbody>\n",
              "</table>\n",
              "</div>"
            ],
            "text/plain": [
              "   Empresa  Qtde Func  ... Criação           País\n",
              "6  Alibaba     251000  ...    1999          China\n",
              "7  Samsung     320000  ...    1969  Coréia do Sul\n",
              "8   JD.com     310000  ...    1998          China\n",
              "\n",
              "[3 rows x 6 columns]"
            ]
          },
          "metadata": {},
          "execution_count": 51
        }
      ]
    },
    {
      "cell_type": "markdown",
      "metadata": {
        "id": "QqgY3ReqDv4P"
      },
      "source": [
        "###Selecionando valores de uma coluna específica"
      ]
    },
    {
      "cell_type": "code",
      "metadata": {
        "colab": {
          "base_uri": "https://localhost:8080/"
        },
        "id": "MYIVaiTAERRP",
        "outputId": "84cf2774-6f2b-4770-bc75-a8a76fef3f82"
      },
      "source": [
        "df['Site'].iloc[:3]"
      ],
      "execution_count": 56,
      "outputs": [
        {
          "output_type": "execute_result",
          "data": {
            "text/plain": [
              "0    https://www.microsoft.com/\n",
              "1       https://www.google.com/\n",
              "2        https://www.apple.com/\n",
              "Name: Site, dtype: object"
            ]
          },
          "metadata": {},
          "execution_count": 56
        }
      ]
    },
    {
      "cell_type": "code",
      "metadata": {
        "colab": {
          "base_uri": "https://localhost:8080/"
        },
        "id": "E9FIsbWdEA9N",
        "outputId": "da0efd5e-2ab6-49e4-cdd1-0ccf0961c7a6"
      },
      "source": [
        "df['Instagram'].iloc[[2,3,5]]"
      ],
      "execution_count": 55,
      "outputs": [
        {
          "output_type": "execute_result",
          "data": {
            "text/plain": [
              "2        @apple\n",
              "3      @nv_data\n",
              "5    @newsda.br\n",
              "Name: Instagram, dtype: object"
            ]
          },
          "metadata": {},
          "execution_count": 55
        }
      ]
    },
    {
      "cell_type": "markdown",
      "metadata": {
        "id": "GQmWSw0FBSEf"
      },
      "source": [
        "### Selecionar linhas desejadas (passamos uma lista [2,4,5] como parâmetro)"
      ]
    },
    {
      "cell_type": "code",
      "metadata": {
        "colab": {
          "base_uri": "https://localhost:8080/",
          "height": 142
        },
        "id": "YqAmFhDX_PlU",
        "outputId": "d206dc0e-1c59-4a22-835a-65d43ba59477"
      },
      "source": [
        "df.iloc[[2,4,5]]"
      ],
      "execution_count": 43,
      "outputs": [
        {
          "output_type": "execute_result",
          "data": {
            "text/html": [
              "<div>\n",
              "<style scoped>\n",
              "    .dataframe tbody tr th:only-of-type {\n",
              "        vertical-align: middle;\n",
              "    }\n",
              "\n",
              "    .dataframe tbody tr th {\n",
              "        vertical-align: top;\n",
              "    }\n",
              "\n",
              "    .dataframe thead th {\n",
              "        text-align: right;\n",
              "    }\n",
              "</style>\n",
              "<table border=\"1\" class=\"dataframe\">\n",
              "  <thead>\n",
              "    <tr style=\"text-align: right;\">\n",
              "      <th></th>\n",
              "      <th>Empresa</th>\n",
              "      <th>Qtde Func</th>\n",
              "      <th>Site</th>\n",
              "      <th>Instagram</th>\n",
              "      <th>Criação</th>\n",
              "      <th>País</th>\n",
              "    </tr>\n",
              "  </thead>\n",
              "  <tbody>\n",
              "    <tr>\n",
              "      <th>2</th>\n",
              "      <td>Apple</td>\n",
              "      <td>147000</td>\n",
              "      <td>https://www.apple.com/</td>\n",
              "      <td>@apple</td>\n",
              "      <td>1976</td>\n",
              "      <td>EUA</td>\n",
              "    </tr>\n",
              "    <tr>\n",
              "      <th>4</th>\n",
              "      <td>Amazon</td>\n",
              "      <td>1125000</td>\n",
              "      <td>https://amazon.com</td>\n",
              "      <td>@amazon</td>\n",
              "      <td>1994</td>\n",
              "      <td>EUA</td>\n",
              "    </tr>\n",
              "    <tr>\n",
              "      <th>5</th>\n",
              "      <td>Newsda</td>\n",
              "      <td>0</td>\n",
              "      <td>http://newsda.com.br/</td>\n",
              "      <td>@newsda.br</td>\n",
              "      <td>2016</td>\n",
              "      <td>Brasil</td>\n",
              "    </tr>\n",
              "  </tbody>\n",
              "</table>\n",
              "</div>"
            ],
            "text/plain": [
              "  Empresa  Qtde Func                    Site   Instagram  Criação    País\n",
              "2   Apple     147000  https://www.apple.com/      @apple     1976     EUA\n",
              "4  Amazon    1125000      https://amazon.com     @amazon     1994     EUA\n",
              "5  Newsda          0   http://newsda.com.br/  @newsda.br     2016  Brasil"
            ]
          },
          "metadata": {},
          "execution_count": 43
        }
      ]
    },
    {
      "cell_type": "markdown",
      "metadata": {
        "id": "iUk14lZxf99-"
      },
      "source": [
        "### Observe que o segundo parâmetro do iloc são as colunas que devem ser mostradas (sempre pelo indice)"
      ]
    },
    {
      "cell_type": "code",
      "metadata": {
        "colab": {
          "base_uri": "https://localhost:8080/",
          "height": 328
        },
        "id": "A4zeS4ERgUK8",
        "outputId": "fbd98ce6-a307-4eb9-ffd2-500bcf54e346"
      },
      "source": [
        "df"
      ],
      "execution_count": 78,
      "outputs": [
        {
          "output_type": "execute_result",
          "data": {
            "text/html": [
              "<div>\n",
              "<style scoped>\n",
              "    .dataframe tbody tr th:only-of-type {\n",
              "        vertical-align: middle;\n",
              "    }\n",
              "\n",
              "    .dataframe tbody tr th {\n",
              "        vertical-align: top;\n",
              "    }\n",
              "\n",
              "    .dataframe thead th {\n",
              "        text-align: right;\n",
              "    }\n",
              "</style>\n",
              "<table border=\"1\" class=\"dataframe\">\n",
              "  <thead>\n",
              "    <tr style=\"text-align: right;\">\n",
              "      <th></th>\n",
              "      <th>Empresa</th>\n",
              "      <th>Qtde Func</th>\n",
              "      <th>Site</th>\n",
              "      <th>Instagram</th>\n",
              "      <th>Criação</th>\n",
              "      <th>País</th>\n",
              "    </tr>\n",
              "  </thead>\n",
              "  <tbody>\n",
              "    <tr>\n",
              "      <th>0</th>\n",
              "      <td>Microsoft</td>\n",
              "      <td>190000</td>\n",
              "      <td>https://www.microsoft.com/</td>\n",
              "      <td>@microsoft</td>\n",
              "      <td>1975</td>\n",
              "      <td>EUA</td>\n",
              "    </tr>\n",
              "    <tr>\n",
              "      <th>1</th>\n",
              "      <td>Google</td>\n",
              "      <td>140000</td>\n",
              "      <td>https://www.google.com/</td>\n",
              "      <td>@google</td>\n",
              "      <td>1998</td>\n",
              "      <td>EUA</td>\n",
              "    </tr>\n",
              "    <tr>\n",
              "      <th>2</th>\n",
              "      <td>Apple</td>\n",
              "      <td>147000</td>\n",
              "      <td>https://www.apple.com/</td>\n",
              "      <td>@apple</td>\n",
              "      <td>1976</td>\n",
              "      <td>EUA</td>\n",
              "    </tr>\n",
              "    <tr>\n",
              "      <th>3</th>\n",
              "      <td>NVData Analytics</td>\n",
              "      <td>11</td>\n",
              "      <td>https://www.nvdata.com.br/</td>\n",
              "      <td>@nv_data</td>\n",
              "      <td>2019</td>\n",
              "      <td>Brasil</td>\n",
              "    </tr>\n",
              "    <tr>\n",
              "      <th>4</th>\n",
              "      <td>Amazon</td>\n",
              "      <td>1125000</td>\n",
              "      <td>https://amazon.com</td>\n",
              "      <td>@amazon</td>\n",
              "      <td>1994</td>\n",
              "      <td>EUA</td>\n",
              "    </tr>\n",
              "    <tr>\n",
              "      <th>5</th>\n",
              "      <td>Newsda</td>\n",
              "      <td>0</td>\n",
              "      <td>http://newsda.com.br/</td>\n",
              "      <td>@newsda.br</td>\n",
              "      <td>2016</td>\n",
              "      <td>Brasil</td>\n",
              "    </tr>\n",
              "    <tr>\n",
              "      <th>6</th>\n",
              "      <td>Alibaba</td>\n",
              "      <td>251000</td>\n",
              "      <td>https://www.alibabagroup.com/en/global/home</td>\n",
              "      <td>@alibaba.com_official</td>\n",
              "      <td>1999</td>\n",
              "      <td>China</td>\n",
              "    </tr>\n",
              "    <tr>\n",
              "      <th>7</th>\n",
              "      <td>Samsung</td>\n",
              "      <td>320000</td>\n",
              "      <td>https://www.samsung.com/</td>\n",
              "      <td>@samsung</td>\n",
              "      <td>1969</td>\n",
              "      <td>Coréia do Sul</td>\n",
              "    </tr>\n",
              "    <tr>\n",
              "      <th>8</th>\n",
              "      <td>JD.com</td>\n",
              "      <td>310000</td>\n",
              "      <td>https://corporate.jd.com/</td>\n",
              "      <td>@jd_corporate</td>\n",
              "      <td>1998</td>\n",
              "      <td>China</td>\n",
              "    </tr>\n",
              "  </tbody>\n",
              "</table>\n",
              "</div>"
            ],
            "text/plain": [
              "            Empresa  Qtde Func  ... Criação           País\n",
              "0         Microsoft     190000  ...    1975            EUA\n",
              "1            Google     140000  ...    1998            EUA\n",
              "2             Apple     147000  ...    1976            EUA\n",
              "3  NVData Analytics         11  ...    2019         Brasil\n",
              "4            Amazon    1125000  ...    1994            EUA\n",
              "5            Newsda          0  ...    2016         Brasil\n",
              "6           Alibaba     251000  ...    1999          China\n",
              "7           Samsung     320000  ...    1969  Coréia do Sul\n",
              "8            JD.com     310000  ...    1998          China\n",
              "\n",
              "[9 rows x 6 columns]"
            ]
          },
          "metadata": {},
          "execution_count": 78
        }
      ]
    },
    {
      "cell_type": "code",
      "metadata": {
        "colab": {
          "base_uri": "https://localhost:8080/",
          "height": 111
        },
        "id": "oA0d-187BaPY",
        "outputId": "f57003be-c152-423a-832c-e9be238f31a5"
      },
      "source": [
        "df.iloc[0:2,0:3]"
      ],
      "execution_count": 79,
      "outputs": [
        {
          "output_type": "execute_result",
          "data": {
            "text/html": [
              "<div>\n",
              "<style scoped>\n",
              "    .dataframe tbody tr th:only-of-type {\n",
              "        vertical-align: middle;\n",
              "    }\n",
              "\n",
              "    .dataframe tbody tr th {\n",
              "        vertical-align: top;\n",
              "    }\n",
              "\n",
              "    .dataframe thead th {\n",
              "        text-align: right;\n",
              "    }\n",
              "</style>\n",
              "<table border=\"1\" class=\"dataframe\">\n",
              "  <thead>\n",
              "    <tr style=\"text-align: right;\">\n",
              "      <th></th>\n",
              "      <th>Empresa</th>\n",
              "      <th>Qtde Func</th>\n",
              "      <th>Site</th>\n",
              "    </tr>\n",
              "  </thead>\n",
              "  <tbody>\n",
              "    <tr>\n",
              "      <th>0</th>\n",
              "      <td>Microsoft</td>\n",
              "      <td>190000</td>\n",
              "      <td>https://www.microsoft.com/</td>\n",
              "    </tr>\n",
              "    <tr>\n",
              "      <th>1</th>\n",
              "      <td>Google</td>\n",
              "      <td>140000</td>\n",
              "      <td>https://www.google.com/</td>\n",
              "    </tr>\n",
              "  </tbody>\n",
              "</table>\n",
              "</div>"
            ],
            "text/plain": [
              "     Empresa  Qtde Func                        Site\n",
              "0  Microsoft     190000  https://www.microsoft.com/\n",
              "1     Google     140000     https://www.google.com/"
            ]
          },
          "metadata": {},
          "execution_count": 79
        }
      ]
    },
    {
      "cell_type": "markdown",
      "metadata": {
        "id": "R_UB00lxgbY1"
      },
      "source": [
        "###Escolhendo as colunas (com uma lista)"
      ]
    },
    {
      "cell_type": "code",
      "metadata": {
        "colab": {
          "base_uri": "https://localhost:8080/",
          "height": 328
        },
        "id": "JKiRPm6ohAAo",
        "outputId": "84b21419-f0c3-45b2-828b-f96bdf5089ae"
      },
      "source": [
        "df.iloc[:,[1,3,5]]"
      ],
      "execution_count": 80,
      "outputs": [
        {
          "output_type": "execute_result",
          "data": {
            "text/html": [
              "<div>\n",
              "<style scoped>\n",
              "    .dataframe tbody tr th:only-of-type {\n",
              "        vertical-align: middle;\n",
              "    }\n",
              "\n",
              "    .dataframe tbody tr th {\n",
              "        vertical-align: top;\n",
              "    }\n",
              "\n",
              "    .dataframe thead th {\n",
              "        text-align: right;\n",
              "    }\n",
              "</style>\n",
              "<table border=\"1\" class=\"dataframe\">\n",
              "  <thead>\n",
              "    <tr style=\"text-align: right;\">\n",
              "      <th></th>\n",
              "      <th>Qtde Func</th>\n",
              "      <th>Instagram</th>\n",
              "      <th>País</th>\n",
              "    </tr>\n",
              "  </thead>\n",
              "  <tbody>\n",
              "    <tr>\n",
              "      <th>0</th>\n",
              "      <td>190000</td>\n",
              "      <td>@microsoft</td>\n",
              "      <td>EUA</td>\n",
              "    </tr>\n",
              "    <tr>\n",
              "      <th>1</th>\n",
              "      <td>140000</td>\n",
              "      <td>@google</td>\n",
              "      <td>EUA</td>\n",
              "    </tr>\n",
              "    <tr>\n",
              "      <th>2</th>\n",
              "      <td>147000</td>\n",
              "      <td>@apple</td>\n",
              "      <td>EUA</td>\n",
              "    </tr>\n",
              "    <tr>\n",
              "      <th>3</th>\n",
              "      <td>11</td>\n",
              "      <td>@nv_data</td>\n",
              "      <td>Brasil</td>\n",
              "    </tr>\n",
              "    <tr>\n",
              "      <th>4</th>\n",
              "      <td>1125000</td>\n",
              "      <td>@amazon</td>\n",
              "      <td>EUA</td>\n",
              "    </tr>\n",
              "    <tr>\n",
              "      <th>5</th>\n",
              "      <td>0</td>\n",
              "      <td>@newsda.br</td>\n",
              "      <td>Brasil</td>\n",
              "    </tr>\n",
              "    <tr>\n",
              "      <th>6</th>\n",
              "      <td>251000</td>\n",
              "      <td>@alibaba.com_official</td>\n",
              "      <td>China</td>\n",
              "    </tr>\n",
              "    <tr>\n",
              "      <th>7</th>\n",
              "      <td>320000</td>\n",
              "      <td>@samsung</td>\n",
              "      <td>Coréia do Sul</td>\n",
              "    </tr>\n",
              "    <tr>\n",
              "      <th>8</th>\n",
              "      <td>310000</td>\n",
              "      <td>@jd_corporate</td>\n",
              "      <td>China</td>\n",
              "    </tr>\n",
              "  </tbody>\n",
              "</table>\n",
              "</div>"
            ],
            "text/plain": [
              "   Qtde Func              Instagram           País\n",
              "0     190000             @microsoft            EUA\n",
              "1     140000                @google            EUA\n",
              "2     147000                 @apple            EUA\n",
              "3         11               @nv_data         Brasil\n",
              "4    1125000                @amazon            EUA\n",
              "5          0             @newsda.br         Brasil\n",
              "6     251000  @alibaba.com_official          China\n",
              "7     320000               @samsung  Coréia do Sul\n",
              "8     310000          @jd_corporate          China"
            ]
          },
          "metadata": {},
          "execution_count": 80
        }
      ]
    },
    {
      "cell_type": "markdown",
      "metadata": {
        "id": "cVBlwWoKhhSW"
      },
      "source": [
        "### Aplicar um filtro antes de fazer o iloc"
      ]
    },
    {
      "cell_type": "code",
      "metadata": {
        "colab": {
          "base_uri": "https://localhost:8080/",
          "height": 173
        },
        "id": "VxgxyfufClSO",
        "outputId": "37df8668-911d-439f-bc02-6bf19486c5b7"
      },
      "source": [
        "df[df['País']==\"EUA\"].iloc[:]"
      ],
      "execution_count": 83,
      "outputs": [
        {
          "output_type": "execute_result",
          "data": {
            "text/html": [
              "<div>\n",
              "<style scoped>\n",
              "    .dataframe tbody tr th:only-of-type {\n",
              "        vertical-align: middle;\n",
              "    }\n",
              "\n",
              "    .dataframe tbody tr th {\n",
              "        vertical-align: top;\n",
              "    }\n",
              "\n",
              "    .dataframe thead th {\n",
              "        text-align: right;\n",
              "    }\n",
              "</style>\n",
              "<table border=\"1\" class=\"dataframe\">\n",
              "  <thead>\n",
              "    <tr style=\"text-align: right;\">\n",
              "      <th></th>\n",
              "      <th>Empresa</th>\n",
              "      <th>Qtde Func</th>\n",
              "      <th>Site</th>\n",
              "      <th>Instagram</th>\n",
              "      <th>Criação</th>\n",
              "      <th>País</th>\n",
              "    </tr>\n",
              "  </thead>\n",
              "  <tbody>\n",
              "    <tr>\n",
              "      <th>0</th>\n",
              "      <td>Microsoft</td>\n",
              "      <td>190000</td>\n",
              "      <td>https://www.microsoft.com/</td>\n",
              "      <td>@microsoft</td>\n",
              "      <td>1975</td>\n",
              "      <td>EUA</td>\n",
              "    </tr>\n",
              "    <tr>\n",
              "      <th>1</th>\n",
              "      <td>Google</td>\n",
              "      <td>140000</td>\n",
              "      <td>https://www.google.com/</td>\n",
              "      <td>@google</td>\n",
              "      <td>1998</td>\n",
              "      <td>EUA</td>\n",
              "    </tr>\n",
              "    <tr>\n",
              "      <th>2</th>\n",
              "      <td>Apple</td>\n",
              "      <td>147000</td>\n",
              "      <td>https://www.apple.com/</td>\n",
              "      <td>@apple</td>\n",
              "      <td>1976</td>\n",
              "      <td>EUA</td>\n",
              "    </tr>\n",
              "    <tr>\n",
              "      <th>4</th>\n",
              "      <td>Amazon</td>\n",
              "      <td>1125000</td>\n",
              "      <td>https://amazon.com</td>\n",
              "      <td>@amazon</td>\n",
              "      <td>1994</td>\n",
              "      <td>EUA</td>\n",
              "    </tr>\n",
              "  </tbody>\n",
              "</table>\n",
              "</div>"
            ],
            "text/plain": [
              "     Empresa  Qtde Func                        Site   Instagram  Criação País\n",
              "0  Microsoft     190000  https://www.microsoft.com/  @microsoft     1975  EUA\n",
              "1     Google     140000     https://www.google.com/     @google     1998  EUA\n",
              "2      Apple     147000      https://www.apple.com/      @apple     1976  EUA\n",
              "4     Amazon    1125000          https://amazon.com     @amazon     1994  EUA"
            ]
          },
          "metadata": {},
          "execution_count": 83
        }
      ]
    },
    {
      "cell_type": "code",
      "metadata": {
        "colab": {
          "base_uri": "https://localhost:8080/",
          "height": 111
        },
        "id": "2voZoF2uhV62",
        "outputId": "2b8c5b17-314b-40ff-d727-c73602949880"
      },
      "source": [
        "df[df['País']==\"EUA\"].iloc[0:2,[0,3]]"
      ],
      "execution_count": 84,
      "outputs": [
        {
          "output_type": "execute_result",
          "data": {
            "text/html": [
              "<div>\n",
              "<style scoped>\n",
              "    .dataframe tbody tr th:only-of-type {\n",
              "        vertical-align: middle;\n",
              "    }\n",
              "\n",
              "    .dataframe tbody tr th {\n",
              "        vertical-align: top;\n",
              "    }\n",
              "\n",
              "    .dataframe thead th {\n",
              "        text-align: right;\n",
              "    }\n",
              "</style>\n",
              "<table border=\"1\" class=\"dataframe\">\n",
              "  <thead>\n",
              "    <tr style=\"text-align: right;\">\n",
              "      <th></th>\n",
              "      <th>Empresa</th>\n",
              "      <th>Instagram</th>\n",
              "    </tr>\n",
              "  </thead>\n",
              "  <tbody>\n",
              "    <tr>\n",
              "      <th>0</th>\n",
              "      <td>Microsoft</td>\n",
              "      <td>@microsoft</td>\n",
              "    </tr>\n",
              "    <tr>\n",
              "      <th>1</th>\n",
              "      <td>Google</td>\n",
              "      <td>@google</td>\n",
              "    </tr>\n",
              "  </tbody>\n",
              "</table>\n",
              "</div>"
            ],
            "text/plain": [
              "     Empresa   Instagram\n",
              "0  Microsoft  @microsoft\n",
              "1     Google     @google"
            ]
          },
          "metadata": {},
          "execution_count": 84
        }
      ]
    },
    {
      "cell_type": "markdown",
      "metadata": {
        "id": "FuexHum1h-bd"
      },
      "source": [
        "###Executar um filtro pela coluna"
      ]
    },
    {
      "cell_type": "code",
      "metadata": {
        "colab": {
          "base_uri": "https://localhost:8080/",
          "height": 111
        },
        "id": "EI2e2nvTez2f",
        "outputId": "7ee2d56c-2013-4b1e-b842-0088bb820ef8"
      },
      "source": [
        "df[df.iloc[:,4]>2000]"
      ],
      "execution_count": 74,
      "outputs": [
        {
          "output_type": "execute_result",
          "data": {
            "text/html": [
              "<div>\n",
              "<style scoped>\n",
              "    .dataframe tbody tr th:only-of-type {\n",
              "        vertical-align: middle;\n",
              "    }\n",
              "\n",
              "    .dataframe tbody tr th {\n",
              "        vertical-align: top;\n",
              "    }\n",
              "\n",
              "    .dataframe thead th {\n",
              "        text-align: right;\n",
              "    }\n",
              "</style>\n",
              "<table border=\"1\" class=\"dataframe\">\n",
              "  <thead>\n",
              "    <tr style=\"text-align: right;\">\n",
              "      <th></th>\n",
              "      <th>Empresa</th>\n",
              "      <th>Qtde Func</th>\n",
              "      <th>Site</th>\n",
              "      <th>Instagram</th>\n",
              "      <th>Criação</th>\n",
              "      <th>País</th>\n",
              "    </tr>\n",
              "  </thead>\n",
              "  <tbody>\n",
              "    <tr>\n",
              "      <th>3</th>\n",
              "      <td>NVData Analytics</td>\n",
              "      <td>11</td>\n",
              "      <td>https://www.nvdata.com.br/</td>\n",
              "      <td>@nv_data</td>\n",
              "      <td>2019</td>\n",
              "      <td>Brasil</td>\n",
              "    </tr>\n",
              "    <tr>\n",
              "      <th>5</th>\n",
              "      <td>Newsda</td>\n",
              "      <td>0</td>\n",
              "      <td>http://newsda.com.br/</td>\n",
              "      <td>@newsda.br</td>\n",
              "      <td>2016</td>\n",
              "      <td>Brasil</td>\n",
              "    </tr>\n",
              "  </tbody>\n",
              "</table>\n",
              "</div>"
            ],
            "text/plain": [
              "            Empresa  Qtde Func  ... Criação    País\n",
              "3  NVData Analytics         11  ...    2019  Brasil\n",
              "5            Newsda          0  ...    2016  Brasil\n",
              "\n",
              "[2 rows x 6 columns]"
            ]
          },
          "metadata": {},
          "execution_count": 74
        }
      ]
    },
    {
      "cell_type": "code",
      "metadata": {
        "colab": {
          "base_uri": "https://localhost:8080/"
        },
        "id": "OnboA14_fjdy",
        "outputId": "0e4bc809-80d1-4bf0-d9c9-c030bbf9cc6a"
      },
      "source": [
        "df[df.iloc[:,4]>2000].iloc[:1,2]"
      ],
      "execution_count": 87,
      "outputs": [
        {
          "output_type": "execute_result",
          "data": {
            "text/plain": [
              "3    https://www.nvdata.com.br/\n",
              "Name: Site, dtype: object"
            ]
          },
          "metadata": {},
          "execution_count": 87
        }
      ]
    },
    {
      "cell_type": "code",
      "metadata": {
        "id": "8oFVorH8iD52"
      },
      "source": [
        ""
      ],
      "execution_count": null,
      "outputs": []
    }
  ]
}